{
 "cells": [
  {
   "cell_type": "markdown",
   "metadata": {},
   "source": [
    "# # Classifiers introduction\n",
    "\n",
    "\n",
    "In the following program we introduce the basic steps of classification of a dataset in a matrix"
   ]
  },
  {
   "cell_type": "code",
   "execution_count": null,
   "metadata": {},
   "outputs": [],
   "source": [
    "# conda install -n aaaid pydot\n",
    "# conda install --channel https://conda.anaconda.org/conda-forge pydotplus\n",
    "\n",
    "\n",
    "from sklearn import tree                             # for the learning algorithm\n",
    "\n",
    "X = [[0, 0], [1, 1]]\n",
    "Y = [0, 1]\n",
    "clf = tree.DecisionTreeClassifier()\n",
    "clf = clf.fit(X, Y)\n",
    "print(clf.predict([[1., 1.]]))"
   ]
  },
  {
   "cell_type": "code",
   "execution_count": null,
   "metadata": {},
   "outputs": [],
   "source": [
    "from sklearn.datasets import load_iris\n",
    "from sklearn import cross_validation                # will be used to separate training and test\n",
    "from sklearn.model_selection import cross_val_score \n",
    "iris = load_iris()\n",
    "clf = tree.DecisionTreeClassifier(criterion=\"entropy\",min_samples_leaf=3,class_weight={0:1,1:1,2:1})\n",
    "X_train, X_test, y_train, y_test = cross_validation.train_test_split(iris.data, iris.target, test_size=0.4, random_state=0)\n",
    "\n",
    "# shows the amount of data in train and test (shape shows the dimensions of the matrix)\n",
    "print(X_train.shape, y_train.shape)\n",
    "print(X_test.shape, y_test.shape)\n",
    "\n",
    "clf = clf.fit(X_train, y_train)\n",
    "#clf = clf.fit(iris.data, iris.target)\n",
    "\n",
    "print(clf.score(X_test, y_test)) "
   ]
  },
  {
   "cell_type": "code",
   "execution_count": null,
   "metadata": {},
   "outputs": [],
   "source": [
    "#clf.tree_.children_right[16]\n",
    "\n",
    "#iris.target_names\n"
   ]
  },
  {
   "cell_type": "code",
   "execution_count": null,
   "metadata": {},
   "outputs": [],
   "source": [
    "dot_data = None\n",
    "\n",
    "with open(\"./test.dot\", \"w\") as f:\n",
    "    tree.export_graphviz(clf, out_file=f, feature_names=iris.feature_names);\n",
    "\n",
    "with open(\"./test.dot\", \"r\") as f:\n",
    "    dot_data = f.read()"
   ]
  },
  {
   "cell_type": "code",
   "execution_count": null,
   "metadata": {},
   "outputs": [],
   "source": [
    "from IPython.display import Image  \n",
    "import pydotplus    \n",
    "graph = pydotplus.graph_from_dot_data(dot_data)  \n",
    "Image(graph.create_png())"
   ]
  },
  {
   "cell_type": "markdown",
   "metadata": {
    "collapsed": true
   },
   "source": [
    "# Seconda parte"
   ]
  },
  {
   "cell_type": "code",
   "execution_count": null,
   "metadata": {},
   "outputs": [],
   "source": [
    "# Regression tree with boston dataset.\n",
    "# predict house price"
   ]
  },
  {
   "cell_type": "code",
   "execution_count": null,
   "metadata": {},
   "outputs": [],
   "source": [
    "from sklearn.datasets import load_boston\n",
    "from sklearn.model_selection import cross_val_score\n",
    "from sklearn.tree import DecisionTreeRegressor\n",
    "import matplotlib.pyplot as plt\n",
    "import numpy as np\n",
    "\n",
    "boston = load_boston()\n",
    "\n",
    "plt.figure(figsize=(4, 3))\n",
    "plt.hist(boston.target)\n",
    "plt.xlabel('Price')\n",
    "plt.ylabel('Count')\n",
    "\n",
    "clf_regressor = DecisionTreeRegressor()\n",
    "X_train_regressor, X_test_regressor, y_train_regressor, y_test_regressor = cross_validation.train_test_split(boston.data, boston.target, test_size = 0.4, random_state = 0)\n",
    "clf_regressor.fit(X_train_regressor, y_train_regressor)\n",
    "print(\"Accuracy score: \", clf_regressor.score(X_test_regressor, y_test_regressor))\n",
    "y_predicted = clf_regressor.predict(X_test_regressor)\n",
    "\n",
    "print(\"RMS: \", np.sqrt(np.mean((y_predicted - y_test_regressor) ** 2)))\n",
    "\n",
    "fig, ax = plt.subplots()\n",
    "ax.scatter(y_test_regressor, y_predicted, s=20, edgecolor=\"black\", c=\"darkorange\", label=\"Price house\")\n",
    "# ax.plot([y_train_regressor.min(), y_train_regressor.max()], [y_train_regressor.min(), y_train_regressor.max()], 'k--', lw=1)\n",
    "ax.plot([y_test_regressor.min(), y_test_regressor.max()], [y_test_regressor.min(), y_test_regressor.max()], 'k--', lw=1)\n",
    "ax.set_xlabel('Measured')\n",
    "ax.set_ylabel('Predicted')\n",
    "ax.legend()\n",
    "plt.show()"
   ]
  }
 ],
 "metadata": {
  "anaconda-cloud": {},
  "kernelspec": {
   "display_name": "Python 2",
   "language": "python",
   "name": "python2"
  },
  "language_info": {
   "codemirror_mode": {
    "name": "ipython",
    "version": 2
   },
   "file_extension": ".py",
   "mimetype": "text/x-python",
   "name": "python",
   "nbconvert_exporter": "python",
   "pygments_lexer": "ipython2",
   "version": "2.7.15"
  }
 },
 "nbformat": 4,
 "nbformat_minor": 1
}
