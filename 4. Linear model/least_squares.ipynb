{
 "cells": [
  {
   "cell_type": "markdown",
   "metadata": {},
   "source": [
    "# Experimenting with least squares and its variants"
   ]
  },
  {
   "cell_type": "code",
   "execution_count": 1,
   "metadata": {},
   "outputs": [],
   "source": [
    "%matplotlib inline\n",
    "\n",
    "from sklearn import datasets\n",
    "from scipy.optimize import fmin_bfgs\n",
    "import numpy as np\n",
    "from numpy.linalg import norm\n",
    "from numpy.linalg import inv"
   ]
  },
  {
   "cell_type": "markdown",
   "metadata": {},
   "source": [
    "## Data preparation"
   ]
  },
  {
   "cell_type": "code",
   "execution_count": 2,
   "metadata": {},
   "outputs": [],
   "source": [
    "boston = datasets.load_boston()\n",
    "data = np.array(boston.data)"
   ]
  },
  {
   "cell_type": "markdown",
   "metadata": {},
   "source": [
    "The boston dataset is one of the standard regression problems used to experiment with learning algorithms. Below you can find the dataset description"
   ]
  },
  {
   "cell_type": "code",
   "execution_count": 3,
   "metadata": {},
   "outputs": [
    {
     "name": "stdout",
     "output_type": "stream",
     "text": [
      "Boston House Prices dataset\n",
      "===========================\n",
      "\n",
      "Notes\n",
      "------\n",
      "Data Set Characteristics:  \n",
      "\n",
      "    :Number of Instances: 506 \n",
      "\n",
      "    :Number of Attributes: 13 numeric/categorical predictive\n",
      "    \n",
      "    :Median Value (attribute 14) is usually the target\n",
      "\n",
      "    :Attribute Information (in order):\n",
      "        - CRIM     per capita crime rate by town\n",
      "        - ZN       proportion of residential land zoned for lots over 25,000 sq.ft.\n",
      "        - INDUS    proportion of non-retail business acres per town\n",
      "        - CHAS     Charles River dummy variable (= 1 if tract bounds river; 0 otherwise)\n",
      "        - NOX      nitric oxides concentration (parts per 10 million)\n",
      "        - RM       average number of rooms per dwelling\n",
      "        - AGE      proportion of owner-occupied units built prior to 1940\n",
      "        - DIS      weighted distances to five Boston employment centres\n",
      "        - RAD      index of accessibility to radial highways\n",
      "        - TAX      full-value property-tax rate per $10,000\n",
      "        - PTRATIO  pupil-teacher ratio by town\n",
      "        - B        1000(Bk - 0.63)^2 where Bk is the proportion of blacks by town\n",
      "        - LSTAT    % lower status of the population\n",
      "        - MEDV     Median value of owner-occupied homes in $1000's\n",
      "\n",
      "    :Missing Attribute Values: None\n",
      "\n",
      "    :Creator: Harrison, D. and Rubinfeld, D.L.\n",
      "\n",
      "This is a copy of UCI ML housing dataset.\n",
      "http://archive.ics.uci.edu/ml/datasets/Housing\n",
      "\n",
      "\n",
      "This dataset was taken from the StatLib library which is maintained at Carnegie Mellon University.\n",
      "\n",
      "The Boston house-price data of Harrison, D. and Rubinfeld, D.L. 'Hedonic\n",
      "prices and the demand for clean air', J. Environ. Economics & Management,\n",
      "vol.5, 81-102, 1978.   Used in Belsley, Kuh & Welsch, 'Regression diagnostics\n",
      "...', Wiley, 1980.   N.B. Various transformations are used in the table on\n",
      "pages 244-261 of the latter.\n",
      "\n",
      "The Boston house-price data has been used in many machine learning papers that address regression\n",
      "problems.   \n",
      "     \n",
      "**References**\n",
      "\n",
      "   - Belsley, Kuh & Welsch, 'Regression diagnostics: Identifying Influential Data and Sources of Collinearity', Wiley, 1980. 244-261.\n",
      "   - Quinlan,R. (1993). Combining Instance-Based and Model-Based Learning. In Proceedings on the Tenth International Conference of Machine Learning, 236-243, University of Massachusetts, Amherst. Morgan Kaufmann.\n",
      "   - many more! (see http://archive.ics.uci.edu/ml/datasets/Housing)\n",
      "\n"
     ]
    }
   ],
   "source": [
    "print(boston.DESCR)"
   ]
  },
  {
   "cell_type": "markdown",
   "metadata": {},
   "source": [
    "First step to apply the formalae we learnt during the lectures is to rewrite the dataset in homogeneous coordinates (i.e., we append a column of 1 to the matrix containing the examples):"
   ]
  },
  {
   "cell_type": "code",
   "execution_count": 4,
   "metadata": {},
   "outputs": [],
   "source": [
    "t = np.ones(len(data)).reshape(len(data),1)\n",
    "data = np.append(data, t, 1)\n",
    "target = np.array(boston.target)"
   ]
  },
  {
   "cell_type": "markdown",
   "metadata": {},
   "source": [
    "We now divide the data into a training set $X$ and a test set $X_\\textrm{test}$."
   ]
  },
  {
   "cell_type": "code",
   "execution_count": 5,
   "metadata": {},
   "outputs": [],
   "source": [
    "X,y = data[0:400,:], target[0:400]\n",
    "X_test, y_test = data[400:,:], target[400:]"
   ]
  },
  {
   "cell_type": "markdown",
   "metadata": {},
   "source": [
    "# Exercise"
   ]
  },
  {
   "cell_type": "markdown",
   "metadata": {},
   "source": [
    "1. Calculate the least square solution (to the regression problem outlined above) and evaluate its performances on the training set and on the test set.\n",
    "1. Calculate the ridge regression solution (set lambda to 0.01) and evaluate its performances on the training set and on test set.\n",
    "1. Calculate the lasso regression solution and evaluate its performances on the training set and on the test set."
   ]
  },
  {
   "cell_type": "markdown",
   "metadata": {},
   "source": [
    "## Notes"
   ]
  },
  {
   "cell_type": "markdown",
   "metadata": {},
   "source": [
    "- Here it follows a list of functions you may want to use (the required packages are already imported at the beginning of this notebook) along with a very brief explanation of their purpose (`help(nomefun)` will provide you more information about function `nomefun`):\n",
    "    - `transpose`: matrix transposition (e.g., `transpose(X)`)\n",
    "    - `dot`: matrix multiplication (e.g., `X.dot(X2)`) \n",
    "    - `inv`: matrix inversion (e.g., `inv(X)`)\n",
    "- to solve the lasso problem you will need to perform a numerical minimization of the associated loss function (as you know, a closed form solution does not exist). There are many numerical optimization algorithms available in the scipy package. My suggestion is to use `fmin_bfgs`. Here it follows an example of how to use it:\n",
    "    ```python\n",
    "        def f(w):\n",
    "            return w[0]**2 + w[1]**2 + w[0] + w[1]\n",
    "        \n",
    "        w = fmin_bfgs(f, [0,0])\n",
    "    ```\n",
    "    note that the function may (and should) reference your data variables (i.e., $X$ and $y$).\n",
    "- to evaluate the performances of your solutions use the $S$ statistic:\n",
    "    $$\n",
    "        S =  \\sqrt{ \\frac{1}{n} \\sum_{i=1}^n (y_i' - y_i)^2 }\n",
    "    $$\n",
    "    where $y'_i$ is your model' prediction for the i-th example, and $n$ is the number of examples."
   ]
  },
  {
   "cell_type": "markdown",
   "metadata": {
    "collapsed": true
   },
   "source": [
    "# Esercizio 1"
   ]
  },
  {
   "cell_type": "code",
   "execution_count": 6,
   "metadata": {},
   "outputs": [],
   "source": [
    "# Multivariate regression\n",
    "# W = [(X^{T}*X)^{-1}]*[X^{T}*Y]\n",
    "def least_square_solution(X, y):\n",
    "    X_transpose = np.transpose(X)\n",
    "    S = inv(X_transpose.dot(X)) # trasformazione che decorrela, centra e normalizza le features.\n",
    "    w = S.dot(X_transpose.dot(y))\n",
    "    return w"
   ]
  },
  {
   "cell_type": "code",
   "execution_count": 7,
   "metadata": {},
   "outputs": [],
   "source": [
    "import math\n",
    "def evaluate_performance(x_label, y_label, w):\n",
    "    y_predicted = np.zeros(len(x_label)) # numero degli esempi\n",
    "    performance = 0 # sommatore\n",
    "    for i in range(len(x_label)):\n",
    "        y_predicted[i]= sum(np.multiply(x_label[i], w)) # calcolo il valore predetto y'_i del modello\n",
    "        performance = performance + ((y_predicted[i] - y_label[i]) ** 2) # continuo ad applicare la S static\n",
    "    result = performance / len(y_label) # divido per il numero degli esempi\n",
    "    return math.sqrt(result)"
   ]
  },
  {
   "cell_type": "code",
   "execution_count": 8,
   "metadata": {},
   "outputs": [
    {
     "name": "stdout",
     "output_type": "stream",
     "text": [
      "('Soluzione individuata da least square: ', array([-1.91246374e-01,  4.42289967e-02,  5.52207977e-02,  1.71631351e+00,\n",
      "       -1.49957220e+01,  4.88773025e+00,  2.60921031e-03, -1.29480799e+00,\n",
      "        4.84787214e-01, -1.54006673e-02, -8.08795026e-01, -1.29230427e-03,\n",
      "       -5.17953791e-01,  2.86725996e+01]))\n",
      "('Performance in training: ', 4.7228408383263805)\n",
      "('Performance in test: ', 6.177729246514845)\n"
     ]
    }
   ],
   "source": [
    "w_compute = least_square_solution(X, y)\n",
    "print(\"Soluzione individuata da least square: \", w_compute)\n",
    "performance_training = evaluate_performance(X, y, w_compute) # esempi, valore true, vettore pesi\n",
    "print(\"Performance in training: \", performance_training)\n",
    "performance_test = evaluate_performance(X_test, y_test, w_compute)\n",
    "print(\"Performance in test: \", performance_test)"
   ]
  },
  {
   "cell_type": "markdown",
   "metadata": {},
   "source": [
    "# Esercizio 2"
   ]
  },
  {
   "cell_type": "code",
   "execution_count": 9,
   "metadata": {},
   "outputs": [],
   "source": [
    "def ridge_regression(X, y):\n",
    "    lambda_value = 0.01\n",
    "    X_transpose = np.transpose(X)\n",
    "    w = (inv(X_transpose.dot(X) + lambda_value * np.identity(len(X_transpose)))).dot(X_transpose.dot(y))\n",
    "    return w"
   ]
  },
  {
   "cell_type": "code",
   "execution_count": 10,
   "metadata": {},
   "outputs": [
    {
     "name": "stdout",
     "output_type": "stream",
     "text": [
      "('Vettori pesi ridge: ', array([-1.91440894e-01,  4.42725237e-02,  5.43610777e-02,  1.71562849e+00,\n",
      "       -1.46631854e+01,  4.91104161e+00,  2.40041390e-03, -1.28746240e+00,\n",
      "        4.82736224e-01, -1.53750112e-02, -8.01618031e-01, -1.05056023e-03,\n",
      "       -5.16996650e-01,  2.81110919e+01]))\n",
      "('Performance in training: ', 4.722895265098319)\n",
      "('Performance in test: ', 6.163678339496761)\n"
     ]
    }
   ],
   "source": [
    "w_rigde_compute = ridge_regression(X, y)\n",
    "print(\"Vettori pesi ridge: \", w_rigde_compute)\n",
    "performance_training = evaluate_performance(X, y, w_rigde_compute)\n",
    "print(\"Performance in training: \", performance_training)\n",
    "performance_test = evaluate_performance(X_test, y_test, w_rigde_compute)\n",
    "print(\"Performance in test: \", performance_test)"
   ]
  },
  {
   "cell_type": "markdown",
   "metadata": {},
   "source": [
    "# Esercizio 3"
   ]
  },
  {
   "cell_type": "code",
   "execution_count": 17,
   "metadata": {},
   "outputs": [],
   "source": [
    "# Funzione da minimizzare: arg min (w(y - Xw)^{T}(y - Xw) +Sum_{|w|}) (norma 1, L1 regularization)\n",
    "def f(w, X, y):\n",
    "    lambda_value = 0.01 # uso la stessa lambda?!\n",
    "    first = (y - (X.dot(w)))\n",
    "    result = np.transpose(first).dot(first) + lambda_value * sum(np.absolute(w))\n",
    "    return result"
   ]
  },
  {
   "cell_type": "code",
   "execution_count": 18,
   "metadata": {},
   "outputs": [],
   "source": [
    "def lasso_regression(X, y):\n",
    "    guess_initial_weights = np.zeros(X.shape[1])\n",
    "    args_bfgs = (X, y)\n",
    "    w = fmin_bfgs(f, x0 = guess_initial_weights, args = args_bfgs)\n",
    "    return w"
   ]
  },
  {
   "cell_type": "code",
   "execution_count": 19,
   "metadata": {},
   "outputs": [
    {
     "name": "stdout",
     "output_type": "stream",
     "text": [
      "Warning: Desired error not necessarily achieved due to precision loss.\n",
      "         Current function value: 8922.627021\n",
      "         Iterations: 18\n",
      "         Function evaluations: 681\n",
      "         Gradient evaluations: 42\n",
      "('Vettori pesi lasso: ', array([-1.91248062e-01,  4.42302949e-02,  5.51971283e-02,  1.71613740e+00,\n",
      "       -1.49875999e+01,  4.88814274e+00,  2.60407422e-03, -1.29464454e+00,\n",
      "        4.84752064e-01, -1.54009184e-02, -8.08641935e-01, -1.28807211e-03,\n",
      "       -5.17941250e-01,  2.86613484e+01]))\n",
      "('Performance in training: ', 4.7228408637408545)\n",
      "('Performance in test: ', 6.177491686184086)\n"
     ]
    }
   ],
   "source": [
    "w_lasso_compute = lasso_regression(X, y)\n",
    "print(\"Vettori pesi lasso: \", w_lasso_compute)\n",
    "performance_training = evaluate_performance(X, y, w_lasso_compute)\n",
    "print(\"Performance in training: \", performance_training)\n",
    "performance_test = evaluate_performance(X_test, y_test, w_lasso_compute)\n",
    "print(\"Performance in test: \", performance_test)"
   ]
  },
  {
   "cell_type": "code",
   "execution_count": null,
   "metadata": {},
   "outputs": [],
   "source": []
  }
 ],
 "metadata": {
  "anaconda-cloud": {},
  "kernelspec": {
   "display_name": "Python 2",
   "language": "python",
   "name": "python2"
  },
  "language_info": {
   "codemirror_mode": {
    "name": "ipython",
    "version": 2
   },
   "file_extension": ".py",
   "mimetype": "text/x-python",
   "name": "python",
   "nbconvert_exporter": "python",
   "pygments_lexer": "ipython2",
   "version": "2.7.15"
  }
 },
 "nbformat": 4,
 "nbformat_minor": 1
}
