{
 "cells": [
  {
   "cell_type": "markdown",
   "metadata": {},
   "source": [
    "# Coverage plots"
   ]
  },
  {
   "cell_type": "code",
   "execution_count": 3,
   "metadata": {},
   "outputs": [],
   "source": [
    "%matplotlib inline  \n",
    "import numpy as np\n",
    "from matplotlib import pyplot as plt"
   ]
  },
  {
   "cell_type": "markdown",
   "metadata": {},
   "source": [
    "Let us consider the following function which applies a linear model to the given data. \n",
    "Specifically, given a \"model\" vector containing the model coefficients $(a,b)$ and a $n \\times 2$ \"data\" matrix  containing the data points to be classified, the function outputs a vector $\\mathbf{z}$, $|\\mathbf{z}| = n$ of booleans where $z_i$ is `True` if $a \\cdot x_{i,1} + b \\cdot x_{i,2} \\geq 0$, it is `False` otherwise."
   ]
  },
  {
   "cell_type": "code",
   "execution_count": 4,
   "metadata": {},
   "outputs": [],
   "source": [
    "def apply_linear_model(model, data):\n",
    "    return np.dot(data, np.transpose(model)) > 0"
   ]
  },
  {
   "cell_type": "markdown",
   "metadata": {},
   "source": [
    "Let us define `data` by generating $1000$ points drawn uniformly from $\\mathcal{X} = [-100,100]^2$."
   ]
  },
  {
   "cell_type": "code",
   "execution_count": 5,
   "metadata": {},
   "outputs": [
    {
     "data": {
      "text/plain": [
       "array([[-84.30442096, -26.59411495],\n",
       "       [ 96.66626817, -89.31562998],\n",
       "       [ 29.52064858, -20.67145993],\n",
       "       ...,\n",
       "       [-44.63821577, -50.93723694],\n",
       "       [-62.88554683, -67.87652614],\n",
       "       [-95.72830974,  49.8296387 ]])"
      ]
     },
     "execution_count": 5,
     "metadata": {},
     "output_type": "execute_result"
    }
   ],
   "source": [
    "data = (np.random.rand(1000,2) - 0.5) * 200\n",
    "data"
   ]
  },
  {
   "cell_type": "markdown",
   "metadata": {},
   "source": [
    "and let target_labels be the labeling output by applying `apply_linear_model` with our target model: $4x -y > 0$"
   ]
  },
  {
   "cell_type": "code",
   "execution_count": 6,
   "metadata": {},
   "outputs": [
    {
     "data": {
      "text/plain": [
       "array([False,  True,  True,  True,  True, False,  True,  True, False,\n",
       "       False,  True, False, False, False,  True,  True,  True,  True,\n",
       "       False,  True,  True,  True,  True, False, False, False, False,\n",
       "        True, False, False,  True, False, False,  True, False,  True,\n",
       "       False, False, False,  True, False, False, False,  True,  True,\n",
       "        True, False,  True, False, False, False,  True, False, False,\n",
       "        True,  True,  True, False,  True,  True, False, False, False,\n",
       "        True, False, False, False, False,  True,  True, False,  True,\n",
       "        True,  True, False,  True,  True, False, False, False, False,\n",
       "        True,  True, False,  True,  True,  True,  True, False,  True,\n",
       "        True, False, False, False,  True,  True,  True, False, False,\n",
       "        True, False,  True,  True,  True, False,  True, False,  True,\n",
       "        True,  True,  True,  True, False, False,  True,  True,  True,\n",
       "       False, False,  True, False,  True,  True,  True, False,  True,\n",
       "        True,  True,  True,  True,  True,  True,  True, False, False,\n",
       "       False, False, False, False, False, False,  True, False,  True,\n",
       "       False,  True,  True, False,  True,  True, False, False, False,\n",
       "       False, False, False, False,  True,  True,  True, False, False,\n",
       "       False, False,  True, False, False,  True, False, False,  True,\n",
       "       False, False, False, False, False,  True,  True,  True, False,\n",
       "        True, False, False, False,  True, False,  True,  True,  True,\n",
       "       False,  True, False, False, False, False, False,  True, False,\n",
       "        True, False,  True,  True, False,  True,  True, False,  True,\n",
       "       False, False, False, False, False,  True, False,  True, False,\n",
       "        True,  True,  True,  True, False, False,  True, False,  True,\n",
       "       False,  True, False, False,  True,  True, False,  True, False,\n",
       "        True,  True,  True, False,  True, False, False,  True, False,\n",
       "        True,  True, False,  True,  True,  True, False,  True,  True,\n",
       "        True,  True,  True,  True,  True,  True,  True,  True,  True,\n",
       "       False, False, False, False,  True, False,  True, False,  True,\n",
       "       False, False, False, False, False,  True,  True,  True,  True,\n",
       "       False,  True, False, False, False,  True, False, False, False,\n",
       "       False, False,  True,  True,  True, False,  True, False, False,\n",
       "       False, False,  True, False,  True,  True, False,  True, False,\n",
       "       False,  True,  True,  True, False,  True, False,  True,  True,\n",
       "        True, False, False,  True, False,  True,  True,  True,  True,\n",
       "       False, False,  True, False, False,  True, False,  True, False,\n",
       "       False, False, False,  True, False, False,  True, False,  True,\n",
       "       False,  True, False, False, False,  True, False,  True,  True,\n",
       "        True,  True, False, False, False,  True,  True, False, False,\n",
       "       False, False, False, False,  True,  True, False,  True, False,\n",
       "        True, False, False, False, False, False,  True, False, False,\n",
       "        True,  True,  True,  True,  True, False, False, False, False,\n",
       "       False, False, False, False, False,  True,  True, False, False,\n",
       "        True, False,  True, False,  True, False,  True, False,  True,\n",
       "        True, False,  True, False,  True,  True,  True, False,  True,\n",
       "        True,  True, False, False, False, False, False,  True,  True,\n",
       "       False, False, False, False, False, False,  True,  True,  True,\n",
       "        True, False,  True,  True, False,  True, False,  True,  True,\n",
       "        True, False, False,  True,  True,  True, False, False, False,\n",
       "        True, False,  True, False, False,  True, False,  True,  True,\n",
       "        True, False,  True,  True,  True, False, False,  True, False,\n",
       "       False,  True, False, False, False, False,  True, False,  True,\n",
       "       False, False,  True,  True,  True,  True, False, False, False,\n",
       "       False,  True, False,  True,  True,  True,  True,  True,  True,\n",
       "       False,  True,  True,  True, False,  True, False,  True, False,\n",
       "       False,  True,  True,  True, False, False, False,  True, False,\n",
       "        True,  True, False,  True,  True, False, False, False, False,\n",
       "        True,  True,  True, False,  True, False, False,  True, False,\n",
       "        True, False,  True, False, False, False,  True,  True,  True,\n",
       "       False,  True,  True, False,  True,  True,  True,  True, False,\n",
       "        True,  True,  True,  True,  True,  True,  True, False, False,\n",
       "        True, False,  True, False,  True,  True,  True,  True,  True,\n",
       "        True,  True,  True,  True,  True,  True, False,  True, False,\n",
       "        True, False, False, False, False,  True, False,  True,  True,\n",
       "        True,  True, False,  True, False,  True,  True,  True,  True,\n",
       "       False, False,  True,  True,  True,  True, False,  True,  True,\n",
       "       False, False,  True,  True, False,  True, False,  True,  True,\n",
       "        True,  True, False, False,  True,  True, False, False,  True,\n",
       "       False, False,  True, False, False,  True, False,  True,  True,\n",
       "        True, False, False,  True, False,  True, False,  True, False,\n",
       "        True, False, False,  True, False,  True,  True,  True, False,\n",
       "       False,  True,  True,  True, False, False,  True,  True, False,\n",
       "        True, False,  True, False,  True, False,  True, False, False,\n",
       "       False,  True,  True, False,  True,  True,  True, False, False,\n",
       "       False,  True, False, False, False,  True,  True,  True, False,\n",
       "        True, False, False,  True,  True,  True,  True, False,  True,\n",
       "        True, False,  True, False, False, False, False,  True, False,\n",
       "        True, False, False,  True,  True,  True, False,  True,  True,\n",
       "       False, False,  True, False, False,  True,  True, False, False,\n",
       "        True, False, False,  True, False, False, False,  True,  True,\n",
       "       False, False, False,  True,  True, False,  True, False, False,\n",
       "       False,  True,  True, False, False, False, False, False,  True,\n",
       "        True, False, False,  True,  True,  True, False,  True,  True,\n",
       "       False, False, False,  True, False, False,  True,  True, False,\n",
       "       False, False,  True, False,  True, False, False,  True,  True,\n",
       "        True, False, False, False, False, False,  True,  True,  True,\n",
       "       False, False, False,  True,  True,  True, False,  True, False,\n",
       "        True, False,  True,  True, False,  True, False,  True, False,\n",
       "       False,  True, False, False,  True,  True, False, False,  True,\n",
       "       False,  True, False,  True,  True, False,  True, False, False,\n",
       "       False,  True,  True, False, False, False, False,  True, False,\n",
       "       False,  True,  True, False,  True, False, False,  True,  True,\n",
       "        True, False, False, False, False, False,  True, False, False,\n",
       "       False, False,  True,  True, False, False, False, False,  True,\n",
       "        True, False,  True,  True,  True, False,  True,  True,  True,\n",
       "        True,  True,  True, False, False,  True,  True,  True,  True,\n",
       "       False,  True, False,  True, False,  True,  True,  True,  True,\n",
       "       False,  True, False,  True, False,  True,  True, False,  True,\n",
       "        True,  True,  True,  True, False, False,  True,  True, False,\n",
       "        True,  True, False,  True,  True,  True, False,  True, False,\n",
       "        True, False, False, False,  True, False, False, False, False,\n",
       "        True,  True, False, False,  True,  True,  True,  True, False,\n",
       "        True,  True,  True,  True,  True,  True, False, False,  True,\n",
       "       False, False, False,  True, False, False, False,  True,  True,\n",
       "        True, False,  True, False, False,  True,  True,  True, False,\n",
       "        True,  True, False, False, False,  True, False, False, False,\n",
       "        True, False, False, False, False,  True, False,  True,  True,\n",
       "       False,  True, False,  True, False,  True, False, False,  True,\n",
       "        True,  True, False,  True, False,  True,  True,  True,  True,\n",
       "       False, False,  True,  True,  True,  True, False, False, False,\n",
       "       False])"
      ]
     },
     "execution_count": 6,
     "metadata": {},
     "output_type": "execute_result"
    }
   ],
   "source": [
    "target_model = [4.,-1.]\n",
    "target_labels = apply_linear_model(target_model, data)\n",
    "target_labels"
   ]
  },
  {
   "cell_type": "markdown",
   "metadata": {},
   "source": [
    "By using matplotlib.pyplot module it is easy to plot the generated points onto a 2D plot:"
   ]
  },
  {
   "cell_type": "code",
   "execution_count": 7,
   "metadata": {},
   "outputs": [
    {
     "data": {
      "text/plain": [
       "<matplotlib.collections.PathCollection at 0x7ad7dd8>"
      ]
     },
     "execution_count": 7,
     "metadata": {},
     "output_type": "execute_result"
    },
    {
     "data": {
      "image/png": "[encoded data removed]",
      "text/plain": [
       "<Figure size 432x288 with 1 Axes>"
      ]
     },
     "metadata": {},
     "output_type": "display_data"
    }
   ],
   "source": [
    "colors = ['r' if l else 'b' for l in target_labels] # R se è true, b se è false.\n",
    "plt.scatter(data[:,0], data[:,1], color=colors)"
   ]
  },
  {
   "cell_type": "markdown",
   "metadata": {},
   "source": [
    "Finally let us now generate at random 100 linear models with coefficients in $[-5,5]$:"
   ]
  },
  {
   "cell_type": "code",
   "execution_count": 8,
   "metadata": {},
   "outputs": [],
   "source": [
    "models = (np.random.rand(100,2) - 0.5) * 10"
   ]
  },
  {
   "cell_type": "markdown",
   "metadata": {},
   "source": [
    "# Exercise"
   ]
  },
  {
   "cell_type": "markdown",
   "metadata": {},
   "source": [
    "1. Write a function that, taken two list of labellings build the corresponding confusion matrix [[1](#hint1)];\n",
    "1. For each model in `models` plot the [FP,TP] pairs on a scatter plot;\n",
    "1. Just looking at the plot: which is the best model in the pool?\n",
    "1. Find the model with the best accuracy [[2](#hint2)] and compare it with the target model, is it close? Is it the model you would have picked up visually from the scatter plot?\n",
    "1. If everything is ok, you should have found a pretty good model for our data. It fits the data quite well and it is quite close to the target model. Did you expect this? If so, why? If not so, why not?\n",
    "\n",
    "<a name=\"hint1\">Hint 1:</a> it may be helpful to have a way to map TRUE to 0, FALSE to 1 and to use these values as indices in the confusion matrix. \n",
    "\n",
    "<a name=\"hint2\">Hint 2:</a> one way to proceed is to build a function `accuracy`, use the `map` function to calculate the accuracies of all the models, and then apply the `numpy.argmax` to retrieve the index of the best model."
   ]
  },
  {
   "cell_type": "markdown",
   "metadata": {
    "collapsed": true
   },
   "source": [
    "# 1. Funzione che realizza una matrice di confusione."
   ]
  },
  {
   "cell_type": "code",
   "execution_count": 9,
   "metadata": {},
   "outputs": [],
   "source": [
    "def compute_confusion_matrix(actual, predicted): # Dichiarazione della funzione e dichiarazione dei parametri.\n",
    "    k = len(np.unique(actual)) # Si calcola la lunghezza dell'array (numero delle classi).\n",
    "    result = np.zeros((k, k)) # Si dichiara un'array con le dimensioni appropiate.\n",
    "    for i in range(len(actual)): # Si loopa sull'array.\n",
    "        result[actual[i]][predicted[i]] += 1 # Si incrementa la posizione dell'array result corrispondente.\n",
    "    return result # Si restituisce il risultato."
   ]
  },
  {
   "cell_type": "code",
   "execution_count": 15,
   "metadata": {},
   "outputs": [],
   "source": [
    "def compute_confusion_matrix2(actual, predicted): # Dichiarazione della funzione.\n",
    "    unique = np.unique(actual) # Un'array contentente le label presenti in actual.\n",
    "    k = len(unique)# Si cerca la dimensione dell'array.\n",
    "    result = np.zeros((k, k)) # Dichiarazione dell'array.\n",
    "    imap = {key: i for i, key in enumerate(unique)} # Mapping per le labels.\n",
    "    #print(imap)\n",
    "    for p, a in zip(predicted, actual): # Loop su tutte le coppie actual e predicted.\n",
    "        result[imap[p]][imap[a]] += 1 # Si incrementa la posizione della matrice interessata.\n",
    "    return result"
   ]
  },
  {
   "cell_type": "markdown",
   "metadata": {},
   "source": [
    "Esempio di utilizzo della funzione compute_confusion_matrix."
   ]
  },
  {
   "cell_type": "code",
   "execution_count": 16,
   "metadata": {},
   "outputs": [
    {
     "data": {
      "text/plain": [
       "array([[2., 0., 0.],\n",
       "       [0., 0., 1.],\n",
       "       [1., 0., 2.]])"
      ]
     },
     "execution_count": 16,
     "metadata": {},
     "output_type": "execute_result"
    }
   ],
   "source": [
    "true_labels = [2, 0, 2, 2, 0, 1]\n",
    "predicted_labels = [0, 0, 2, 2, 0, 2]\n",
    "result = compute_confusion_matrix(true_labels, predicted_labels)\n",
    "result"
   ]
  },
  {
   "cell_type": "markdown",
   "metadata": {},
   "source": [
    "L'array result deve essere interpretato in questo modo:\n",
    "1. Il numero delle classi è 3: 0, 1, 2;\n",
    "1. La classe \"0\" è stata predetta come \"0\" 2 volte, come \"1\" 0 volte, come \"2\" 0 volte.\n",
    "1. La classe \"1\" è stata predetta come \"0\" 0 volte, come \"1\" 0 volte, come \"2\" 1 volta.\n",
    "1. La classe \"2\" è stata predetta come \"0\" 1 volta, come \"1\" 0 volte, come \"2\" 2 volte. "
   ]
  },
  {
   "cell_type": "code",
   "execution_count": 17,
   "metadata": {},
   "outputs": [
    {
     "data": {
      "text/plain": [
       "array([[493.,   0.],\n",
       "       [  0., 507.]])"
      ]
     },
     "execution_count": 17,
     "metadata": {},
     "output_type": "execute_result"
    }
   ],
   "source": [
    "result2 = compute_confusion_matrix2(target_labels, target_labels)\n",
    "result2"
   ]
  },
  {
   "cell_type": "markdown",
   "metadata": {},
   "source": [
    "L'indice 0 sono i False, mentre l'indice 1 sono i True."
   ]
  },
  {
   "cell_type": "markdown",
   "metadata": {},
   "source": [
    "Esempio con SKLearn."
   ]
  },
  {
   "cell_type": "code",
   "execution_count": 18,
   "metadata": {},
   "outputs": [
    {
     "data": {
      "text/plain": [
       "array([[2, 0, 0],\n",
       "       [0, 0, 1],\n",
       "       [1, 0, 2]], dtype=int64)"
      ]
     },
     "execution_count": 18,
     "metadata": {},
     "output_type": "execute_result"
    }
   ],
   "source": [
    "from sklearn.metrics import confusion_matrix\n",
    "confusion_matrix(true_labels, predicted_labels)"
   ]
  },
  {
   "cell_type": "code",
   "execution_count": 19,
   "metadata": {},
   "outputs": [
    {
     "data": {
      "text/plain": [
       "array([[507,   0],\n",
       "       [  0, 493]], dtype=int64)"
      ]
     },
     "execution_count": 19,
     "metadata": {},
     "output_type": "execute_result"
    }
   ],
   "source": [
    "confusion_matrix(target_labels, target_labels, labels=[True, False])"
   ]
  },
  {
   "cell_type": "markdown",
   "metadata": {},
   "source": [
    "In questo caso, invece, l'indice 0 sono i True, mentre l'indice 1 i False."
   ]
  },
  {
   "cell_type": "code",
   "execution_count": 20,
   "metadata": {},
   "outputs": [
    {
     "name": "stdout",
     "output_type": "stream",
     "text": [
      "Counter({True: 507, False: 493})\n"
     ]
    }
   ],
   "source": [
    "from collections import Counter\n",
    "print(Counter(target_labels))"
   ]
  },
  {
   "cell_type": "markdown",
   "metadata": {},
   "source": [
    "# 2. Plotta lo scatter [FP, TP]"
   ]
  },
  {
   "cell_type": "code",
   "execution_count": 21,
   "metadata": {},
   "outputs": [
    {
     "data": {
      "text/plain": [
       "<matplotlib.collections.PathCollection at 0xa1b9898>"
      ]
     },
     "execution_count": 21,
     "metadata": {},
     "output_type": "execute_result"
    },
    {
     "data": {
      "image/png": "[encoded data removed]",
      "text/plain": [
       "<Figure size 432x288 with 1 Axes>"
      ]
     },
     "metadata": {},
     "output_type": "display_data"
    }
   ],
   "source": [
    "matrix = np.empty((100, 2))\n",
    "i = 0\n",
    "for m in models:\n",
    "    m_labels = apply_linear_model(m, data)\n",
    "    result = compute_confusion_matrix2(target_labels, m_labels)\n",
    "    tn = result[0, 0]\n",
    "    tp = result[1, 1]\n",
    "    fp = result[0, 1]\n",
    "    fn = result[1, 0]\n",
    "    matrix[i] = [fp, tp]\n",
    "    i += 1\n",
    "    \n",
    "plt.scatter(matrix[:,0], matrix[:,1])"
   ]
  },
  {
   "cell_type": "markdown",
   "metadata": {},
   "source": [
    "In SKLearn"
   ]
  },
  {
   "cell_type": "code",
   "execution_count": 22,
   "metadata": {},
   "outputs": [
    {
     "data": {
      "text/plain": [
       "<matplotlib.collections.PathCollection at 0xa1eeef0>"
      ]
     },
     "execution_count": 22,
     "metadata": {},
     "output_type": "execute_result"
    },
    {
     "data": {
      "image/png": "[encoded data removed]",
      "text/plain": [
       "<Figure size 432x288 with 1 Axes>"
      ]
     },
     "metadata": {},
     "output_type": "display_data"
    }
   ],
   "source": [
    "matrix2 = np.empty((100, 2))\n",
    "i = 0\n",
    "for m in models:\n",
    "    m_labels = apply_linear_model(m, data)\n",
    "    #tp, fn, fp, tn = confusion_matrix(target_labels, m_labels, labels=[True, False]).ravel()\n",
    "    result = confusion_matrix(target_labels, m_labels, labels=[True, False])\n",
    "    tn = result[0, 0]\n",
    "    tp = result[1, 1]\n",
    "    fp = result[0, 1]\n",
    "    fn = result[1, 0]\n",
    "    matrix2[i] = [fp, tp]\n",
    "    i += 1\n",
    "\n",
    "plt.scatter(matrix2[:,0], matrix2[:,1])"
   ]
  },
  {
   "cell_type": "markdown",
   "metadata": {},
   "source": [
    "# 3. Qual è il migliore?"
   ]
  },
  {
   "cell_type": "markdown",
   "metadata": {},
   "source": [
    "Il migliore dovrebbe essere il modello che ha il minor numero di falsi positivi e il maggior numero di veri positivi. Riferendosi al plot del punto 2, dovrebbe essere intuitivamente uno dei punti che si trovano in alto a sinistra, dato che sull'asse delle x (asse orizzontale) sono presenti i falsi positivi, mentre sull'asse delle y (asse verticale) sono presenti i true positive."
   ]
  },
  {
   "cell_type": "markdown",
   "metadata": {},
   "source": [
    "# 4. Best accuracy"
   ]
  },
  {
   "cell_type": "code",
   "execution_count": 23,
   "metadata": {},
   "outputs": [
    {
     "name": "stdout",
     "output_type": "stream",
     "text": [
      "65\n",
      "[0.984]\n"
     ]
    }
   ],
   "source": [
    "accuracy = np.empty((100, 1))\n",
    "i = 0\n",
    "for m in models:\n",
    "    m_labels = apply_linear_model(m, data)\n",
    "    result = compute_confusion_matrix2(target_labels, m_labels)\n",
    "    tn = result[0, 0]\n",
    "    tp = result[1, 1]\n",
    "    fp = result[0, 1]\n",
    "    fn = result[1, 0]\n",
    "    accuracy[i] = (tp + tn) / (tp + fp + fn + tn)\n",
    "    i += 1\n",
    "np.argmax(accuracy)\n",
    "print(np.argmax(accuracy))\n",
    "print(accuracy[np.argmax(accuracy)])"
   ]
  },
  {
   "cell_type": "markdown",
   "metadata": {},
   "source": [
    "In SKLearn"
   ]
  },
  {
   "cell_type": "code",
   "execution_count": 24,
   "metadata": {},
   "outputs": [
    {
     "name": "stdout",
     "output_type": "stream",
     "text": [
      "65\n",
      "[0.984]\n"
     ]
    }
   ],
   "source": [
    "from sklearn.metrics import accuracy_score\n",
    "accuracy2 = np.empty((100, 1))\n",
    "for i, m in enumerate(models):\n",
    "    m_labels = apply_linear_model(m, data)\n",
    "    accuracy2[i] = accuracy_score(target_labels, m_labels)\n",
    "np.argmax(accuracy2)\n",
    "print(np.argmax(accuracy2))\n",
    "print(accuracy2[np.argmax(accuracy2)])"
   ]
  },
  {
   "cell_type": "code",
   "execution_count": 25,
   "metadata": {},
   "outputs": [
    {
     "data": {
      "text/plain": [
       "(0, 500)"
      ]
     },
     "execution_count": 25,
     "metadata": {},
     "output_type": "execute_result"
    },
    {
     "data": {
      "image/png": "[encoded data removed]",
      "text/plain": [
       "<Figure size 432x288 with 1 Axes>"
      ]
     },
     "metadata": {},
     "output_type": "display_data"
    }
   ],
   "source": [
    "plt.scatter(matrix[np.argmax(accuracy),0], matrix[np.argmax(accuracy),1])\n",
    "plt.ylim(0, 500)\n",
    "plt.xlim(0, 500)"
   ]
  },
  {
   "cell_type": "code",
   "execution_count": 26,
   "metadata": {},
   "outputs": [
    {
     "data": {
      "text/plain": [
       "(0, 500)"
      ]
     },
     "execution_count": 26,
     "metadata": {},
     "output_type": "execute_result"
    },
    {
     "data": {
      "image/png": "[encoded data removed]",
      "text/plain": [
       "<Figure size 432x288 with 1 Axes>"
      ]
     },
     "metadata": {},
     "output_type": "display_data"
    }
   ],
   "source": [
    "plt.scatter(matrix2[np.argmax(accuracy2),0], matrix[np.argmax(accuracy2),1])\n",
    "plt.ylim(0, 500)\n",
    "plt.xlim(0, 500)"
   ]
  },
  {
   "cell_type": "markdown",
   "metadata": {},
   "source": [
    "# 5. Last question"
   ]
  },
  {
   "cell_type": "markdown",
   "metadata": {},
   "source": [
    "Mmmm"
   ]
  }
 ],
 "metadata": {
  "anaconda-cloud": {},
  "kernelspec": {
   "display_name": "Python 2",
   "language": "python",
   "name": "python2"
  },
  "language_info": {
   "codemirror_mode": {
    "name": "ipython",
    "version": 2
   },
   "file_extension": ".py",
   "mimetype": "text/x-python",
   "name": "python",
   "nbconvert_exporter": "python",
   "pygments_lexer": "ipython2",
   "version": "2.7.15"
  }
 },
 "nbformat": 4,
 "nbformat_minor": 1
}
